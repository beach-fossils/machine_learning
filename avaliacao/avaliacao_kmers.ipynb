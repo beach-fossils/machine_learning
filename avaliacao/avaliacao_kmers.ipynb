{
 "cells": [
  {
   "cell_type": "code",
   "execution_count": 2,
   "outputs": [],
   "source": [
    "from src.si.feature_extraction.k_mer import KMer\n",
    "from src.si.linear_model.logistic_regression import LogisticRegression\n",
    "from src.si.model_selection.split import train_test_split\n",
    "from src.si.io.CSV import read_csv\n"
   ],
   "metadata": {
    "collapsed": false,
    "pycharm": {
     "name": "#%%\n"
    }
   }
  },
  {
   "cell_type": "code",
   "execution_count": 3,
   "outputs": [],
   "source": [
    "tfbs_data = read_csv(\"/Users/josediogomoura/machine_learning/datasets/si-datasets_update/tfbs.csv\", sep=',', label=True, features=True)"
   ],
   "metadata": {
    "collapsed": false,
    "pycharm": {
     "name": "#%%\n"
    }
   }
  },
  {
   "cell_type": "code",
   "execution_count": 4,
   "outputs": [
    {
     "name": "stdout",
     "output_type": "stream",
     "text": [
      "(2000, 1)\n"
     ]
    }
   ],
   "source": [
    "print(tfbs_data.shape())"
   ],
   "metadata": {
    "collapsed": false,
    "pycharm": {
     "name": "#%%\n"
    }
   }
  },
  {
   "cell_type": "code",
   "execution_count": 5,
   "outputs": [
    {
     "data": {
      "text/plain": "(array([['CCGAGGGCTATGGTTTGGAAGTTAGAACCCTGGGGCTTCTCGCGGACACC'],\n        ['GAGTTTATATGGCGCGAGCCTAGTGGTTTTTGTACTTGTTTGTCGCGTCG'],\n        ['GATCAGTAGGGAAACAAACAGAGGGCCCAGCCACATCTAGCAGGTAGCCT'],\n        ['GTCCACGACCGAACTCCCACCTTGACCGCAGAGGTACCACCAGAGCCCTG'],\n        ['GGCGACCGAACTCCAACTAGAACCTGCATAACTGGCCTGGGAGATATGGT']],\n       dtype=object),\n array([0, 0, 0, 1, 1]))"
     },
     "execution_count": 5,
     "metadata": {},
     "output_type": "execute_result"
    }
   ],
   "source": [
    "tfbs_data.head()"
   ],
   "metadata": {
    "collapsed": false,
    "pycharm": {
     "name": "#%%\n"
    }
   }
  },
  {
   "cell_type": "code",
   "execution_count": 6,
   "outputs": [],
   "source": [
    "# Usa o KMer para obter a frequência de cada substring em cada sequência do dataset. Tamanho da substring (k): 3\n",
    "kmer = KMer(k=3, alphabet='DNA')"
   ],
   "metadata": {
    "collapsed": false,
    "pycharm": {
     "name": "#%%\n"
    }
   }
  },
  {
   "cell_type": "code",
   "execution_count": 7,
   "outputs": [
    {
     "data": {
      "text/plain": "<src.si.feature_extraction.k_mer.KMer at 0x7f864bed99d0>"
     },
     "execution_count": 7,
     "metadata": {},
     "output_type": "execute_result"
    }
   ],
   "source": [
    "kmer.fit(tfbs_data)"
   ],
   "metadata": {
    "collapsed": false,
    "pycharm": {
     "name": "#%%\n"
    }
   }
  },
  {
   "cell_type": "code",
   "execution_count": 8,
   "outputs": [
    {
     "data": {
      "text/plain": "'ACGT'"
     },
     "execution_count": 8,
     "metadata": {},
     "output_type": "execute_result"
    }
   ],
   "source": [
    "kmer.alphabet"
   ],
   "metadata": {
    "collapsed": false,
    "pycharm": {
     "name": "#%%\n"
    }
   }
  },
  {
   "cell_type": "code",
   "execution_count": 9,
   "outputs": [
    {
     "data": {
      "text/plain": "<si.data.dataset.Dataset at 0x7f8638ee64f0>"
     },
     "execution_count": 9,
     "metadata": {},
     "output_type": "execute_result"
    }
   ],
   "source": [
    "kmer.transform(tfbs_data)"
   ],
   "metadata": {
    "collapsed": false,
    "pycharm": {
     "name": "#%%\n"
    }
   }
  },
  {
   "cell_type": "code",
   "execution_count": 12,
   "outputs": [],
   "source": [
    "kmer_dataset = kmer.fit_transform(tfbs_data)"
   ],
   "metadata": {
    "collapsed": false,
    "pycharm": {
     "name": "#%%\n"
    }
   }
  },
  {
   "cell_type": "code",
   "execution_count": 14,
   "outputs": [
    {
     "data": {
      "text/plain": "               AAA       AAC      AAG       AAT       ACA       ACC     ACG  \\\nmean      0.656000  1.172500  0.66050  0.662000  0.632000  1.137500  0.7600   \nmedian    0.000000  1.000000  0.00000  0.000000  0.000000  1.000000  1.0000   \nmin       0.000000  0.000000  0.00000  0.000000  0.000000  0.000000  0.0000   \nmax       6.000000  5.000000  4.00000  5.000000  6.000000  5.000000  5.0000   \nvariance  1.007664  0.822744  0.63924  0.613756  0.700576  0.779594  0.7054   \n\n               ACT     AGA       AGC  ...      TCG     TCT       TGA  \\\nmean      1.146500  0.6200  0.664000  ...  0.77450  0.6400  0.646500   \nmedian    1.000000  0.0000  0.000000  ...  1.00000  0.0000  0.000000   \nmin       0.000000  0.0000  0.000000  ...  0.00000  0.0000  0.000000   \nmax       5.000000  5.0000  4.000000  ...  4.00000  5.0000  5.000000   \nvariance  0.789038  0.6786  0.636104  ...  0.65765  0.7004  0.611538   \n\n               TGC      TGG       TGT       TTA       TTC       TTG       TTT  \nmean      0.674000  0.64550  0.651000  0.653500  0.677000  0.663500  0.694000  \nmedian    0.000000  0.00000  0.000000  0.000000  1.000000  0.000000  0.000000  \nmin       0.000000  0.00000  0.000000  0.000000  0.000000  0.000000  0.000000  \nmax       4.000000  4.00000  5.000000  4.000000  4.000000  4.000000  9.000000  \nvariance  0.649724  0.60083  0.661199  0.611438  0.601671  0.630268  1.109364  \n\n[5 rows x 64 columns]",
      "text/html": "<div>\n<style scoped>\n    .dataframe tbody tr th:only-of-type {\n        vertical-align: middle;\n    }\n\n    .dataframe tbody tr th {\n        vertical-align: top;\n    }\n\n    .dataframe thead th {\n        text-align: right;\n    }\n</style>\n<table border=\"1\" class=\"dataframe\">\n  <thead>\n    <tr style=\"text-align: right;\">\n      <th></th>\n      <th>AAA</th>\n      <th>AAC</th>\n      <th>AAG</th>\n      <th>AAT</th>\n      <th>ACA</th>\n      <th>ACC</th>\n      <th>ACG</th>\n      <th>ACT</th>\n      <th>AGA</th>\n      <th>AGC</th>\n      <th>...</th>\n      <th>TCG</th>\n      <th>TCT</th>\n      <th>TGA</th>\n      <th>TGC</th>\n      <th>TGG</th>\n      <th>TGT</th>\n      <th>TTA</th>\n      <th>TTC</th>\n      <th>TTG</th>\n      <th>TTT</th>\n    </tr>\n  </thead>\n  <tbody>\n    <tr>\n      <th>mean</th>\n      <td>0.656000</td>\n      <td>1.172500</td>\n      <td>0.66050</td>\n      <td>0.662000</td>\n      <td>0.632000</td>\n      <td>1.137500</td>\n      <td>0.7600</td>\n      <td>1.146500</td>\n      <td>0.6200</td>\n      <td>0.664000</td>\n      <td>...</td>\n      <td>0.77450</td>\n      <td>0.6400</td>\n      <td>0.646500</td>\n      <td>0.674000</td>\n      <td>0.64550</td>\n      <td>0.651000</td>\n      <td>0.653500</td>\n      <td>0.677000</td>\n      <td>0.663500</td>\n      <td>0.694000</td>\n    </tr>\n    <tr>\n      <th>median</th>\n      <td>0.000000</td>\n      <td>1.000000</td>\n      <td>0.00000</td>\n      <td>0.000000</td>\n      <td>0.000000</td>\n      <td>1.000000</td>\n      <td>1.0000</td>\n      <td>1.000000</td>\n      <td>0.0000</td>\n      <td>0.000000</td>\n      <td>...</td>\n      <td>1.00000</td>\n      <td>0.0000</td>\n      <td>0.000000</td>\n      <td>0.000000</td>\n      <td>0.00000</td>\n      <td>0.000000</td>\n      <td>0.000000</td>\n      <td>1.000000</td>\n      <td>0.000000</td>\n      <td>0.000000</td>\n    </tr>\n    <tr>\n      <th>min</th>\n      <td>0.000000</td>\n      <td>0.000000</td>\n      <td>0.00000</td>\n      <td>0.000000</td>\n      <td>0.000000</td>\n      <td>0.000000</td>\n      <td>0.0000</td>\n      <td>0.000000</td>\n      <td>0.0000</td>\n      <td>0.000000</td>\n      <td>...</td>\n      <td>0.00000</td>\n      <td>0.0000</td>\n      <td>0.000000</td>\n      <td>0.000000</td>\n      <td>0.00000</td>\n      <td>0.000000</td>\n      <td>0.000000</td>\n      <td>0.000000</td>\n      <td>0.000000</td>\n      <td>0.000000</td>\n    </tr>\n    <tr>\n      <th>max</th>\n      <td>6.000000</td>\n      <td>5.000000</td>\n      <td>4.00000</td>\n      <td>5.000000</td>\n      <td>6.000000</td>\n      <td>5.000000</td>\n      <td>5.0000</td>\n      <td>5.000000</td>\n      <td>5.0000</td>\n      <td>4.000000</td>\n      <td>...</td>\n      <td>4.00000</td>\n      <td>5.0000</td>\n      <td>5.000000</td>\n      <td>4.000000</td>\n      <td>4.00000</td>\n      <td>5.000000</td>\n      <td>4.000000</td>\n      <td>4.000000</td>\n      <td>4.000000</td>\n      <td>9.000000</td>\n    </tr>\n    <tr>\n      <th>variance</th>\n      <td>1.007664</td>\n      <td>0.822744</td>\n      <td>0.63924</td>\n      <td>0.613756</td>\n      <td>0.700576</td>\n      <td>0.779594</td>\n      <td>0.7054</td>\n      <td>0.789038</td>\n      <td>0.6786</td>\n      <td>0.636104</td>\n      <td>...</td>\n      <td>0.65765</td>\n      <td>0.7004</td>\n      <td>0.611538</td>\n      <td>0.649724</td>\n      <td>0.60083</td>\n      <td>0.661199</td>\n      <td>0.611438</td>\n      <td>0.601671</td>\n      <td>0.630268</td>\n      <td>1.109364</td>\n    </tr>\n  </tbody>\n</table>\n<p>5 rows × 64 columns</p>\n</div>"
     },
     "execution_count": 14,
     "metadata": {},
     "output_type": "execute_result"
    }
   ],
   "source": [
    "kmer_dataset.summary()"
   ],
   "metadata": {
    "collapsed": false,
    "pycharm": {
     "name": "#%%\n"
    }
   }
  },
  {
   "cell_type": "code",
   "execution_count": 15,
   "outputs": [],
   "source": [
    "from sklearn.preprocessing import StandardScaler\n",
    "\n",
    "kmer_dataset.X = StandardScaler().fit_transform(kmer_dataset.X)"
   ],
   "metadata": {
    "collapsed": false,
    "pycharm": {
     "name": "#%%\n"
    }
   }
  },
  {
   "cell_type": "code",
   "execution_count": 16,
   "outputs": [],
   "source": [
    "train, test = train_test_split(kmer_dataset, test_size=0.2, random_state=42)"
   ],
   "metadata": {
    "collapsed": false,
    "pycharm": {
     "name": "#%%\n"
    }
   }
  },
  {
   "cell_type": "code",
   "execution_count": 17,
   "outputs": [],
   "source": [
    "logistic = LogisticRegression(max_iter=2000)\n",
    "logistic = logistic.fit(train)"
   ],
   "metadata": {
    "collapsed": false,
    "pycharm": {
     "name": "#%%\n"
    }
   }
  },
  {
   "cell_type": "code",
   "execution_count": 18,
   "outputs": [
    {
     "data": {
      "text/plain": "0.9575"
     },
     "execution_count": 18,
     "metadata": {},
     "output_type": "execute_result"
    }
   ],
   "source": [
    "logistic.score(test)"
   ],
   "metadata": {
    "collapsed": false,
    "pycharm": {
     "name": "#%%\n"
    }
   }
  },
  {
   "cell_type": "code",
   "execution_count": 19,
   "outputs": [
    {
     "data": {
      "text/plain": "<Figure size 640x480 with 1 Axes>",
      "image/png": "[encoded data removed]"
     },
     "metadata": {},
     "output_type": "display_data"
    }
   ],
   "source": [
    "logistic.cost_function_plot()"
   ],
   "metadata": {
    "collapsed": false,
    "pycharm": {
     "name": "#%%\n"
    }
   }
  },
  {
   "cell_type": "code",
   "execution_count": 20,
   "outputs": [],
   "source": [
    "# Testa o novo KMer para sequências de aminoácidos"
   ],
   "metadata": {
    "collapsed": false,
    "pycharm": {
     "name": "#%%\n"
    }
   }
  },
  {
   "cell_type": "code",
   "execution_count": 28,
   "outputs": [
    {
     "name": "stdout",
     "output_type": "stream",
     "text": [
      "(array([['MKKTLIALSVSAAAMATGVNAAELYNQDGTSLEMGGRAEARLSMKDGDAQDNSRIRLNFLGTQAINDNLYGVGFWEGEFTTNEQGGVDGDVNKDSSNLDTRYAYAGLGGAWGEFTYGKNEGALGVITDFTDIMAYHGNSAADKLAVADRSDNMMSYKGQFENLSVKASYRFADRKLNDAGTEYTDNGQDGYSLSAIYAVADTGLELGAGYADQDEANEYMLAASYTMGDLYFAGIFTDGEKAKTEGDYTGYELAGAYTLGQTVFTTTYNNAETNNETSANNFAVDASYYFKPNFRGYVSYNFNLIDSGDKLGKVGGNTTASKADAEDELALGLRYDF'],\n",
      "       ['MRIGVYVCHCGLNIAGVIDVSALEEMAGELEDVVLAREVQFLCSDSGQEGIIKDIKDNKIDRVVIAACSPRLHEKTFRHVMEKADLNPYLMEMVNIREQCSWVHADDPQMATQKAFDLIRMGVAKARFLRELSATSSKASRNVLIIGGGVAGIEAALNLAEAGFPVTMVERESTIGGKMALMNEVFPTNDCSICVLAPKMTEVQNHPNITLYTYSEVTDISGSVGKFHVRVTRKPRFVLEDKCKGCVDLCSEVCPVEIENPMNYGIGKSRAIYMPIPQSVPQVVLIDPDHCVGCGLCQLACPAEAVDYEQKPEEIEFEAGAVIVSTGYQLFDASRKKEYGFGKYPDVITNMQLERMLNSAGPTGGRVLVPSTGQPPESVAFIQCVGSRDKTVGNEHCSRVCCMAALKNSQMVKERYPGTDITIHYIDIRAAGEMYEEYYARTQGMGVDFIRGKVAEVYAGEDGRPVVRYENTLESRVEEEAHDLVVLSTGYEPSKAAEGIGRMLNLARRPDRFFASAHPKMRPVDAPVSGVFLAGCASGPKEIQVSIAQGSACASKVMQLLGTGELEADPMGAHVDPDKCIGCRTCVEVCKFGKISIVDKKAVVDEVSCYGCGDCSAACPVGAIQMRNFENEQILAQVRAATAHKSQCPFVVAFLCNWCSYACADLTGMSRIHYPTNIRVIRTMCSARINPEFVLEALKGGADGVLVAGCRMDECHYIHGNFDAKKRMDVLKEIIKEIGLDPKRLRTLWISAAEGERFSNTITEFVKELEEIGPIGSELKREYTATGLEEVAK'],\n",
      "       ['MELKNKKLSLWEAVSMAVGVMIGASIFSIFGVGAKIAGRNLPETFILSGIYALLVAYSYTKLGAKIVSNAGPIAFIHKAIGDNIITGALSILLWMSYVISIALFAKGFAGYFLPLINAPINTFNIAITEIGIVAFFTALNFFGSKAVGRAEFFIVLVKLLILGLFIFAGLITIHPSYVIPDLAPSAVSGMIFASAIFFLSYMGFGVITNASEHIENPKKNVPRAIFISILIVMFVYVGVAISAIGNLPIDELIKASENALAVAAKPFLGNLGFLLISIGALFSISSAMNATIYGGANVAYSLAKDGELPEFFERKVWFKSTEGLYITSALGVLFALLFNMEGVASITSAVFMVIYLFVILSHYILIDEVGGRKEIVIFSFIVVLGVFLLLLYYQWITNRFVFYGIIATFIGVLIFEIIYRKVTKRTFSNNMYVKS'],\n",
      "       ['MHLPSLSVALALVSSSLALPQAVLPENDVSSRAAAVKEAFSHAWDGYMKYAFPHDELLPVSNSYGDSRNGWGASAVDALSTAIVMRNATIVSQILDHIAKIDYSKTSDMVSLFETTIRYLGGMLSGYDLLKGPAADLVEDRTKVDMLLQQSKNLGDVLKFAFDTPSGVPYNNINITSHGNDGATTNGLAVTGTLVLEWTRLSDLTGDQEYAKLSQRAESYLLAPQPSSGEPFPGLVGSAISIQTGQFTNGFVSWNGGSDSFYEYLMKMYVYDPKRFATYKDRWVAAAESSIDHLASNPASRPDLTFLATYNKGSLGLSSQHLACFDGGSYLLGGTVLDRADLIDFGLKLVDGCAETYHQTLTGIGPESFGWDEKSVPADQKELYERAGFYVQSGAYILRPEVIESFYYAYRVTGKKQYRDWVWNAFENINKYCRTESGFAGLTNVNAVNGGGRYDNQESFLFAEVMKYAYLTHAPGMSSMPAAAEDKANKSRG'],\n",
      "       ['MEELVGLREGFSGDPVTLQELWGPCPHIRRAIQGGLEWLKQKVFRLGEDWYFLMTLGVLMALVSYAMNFAIGCVVRAHQWLYREIGDSHLLRYLSWTVYPVALVSFSSGFSQSITPSSGGSGIPELKTMLAGVILEDYLDIKNFGAKVVGLSCTLATGSTLFLGKVGPFVHLSVMIAAYLGRVRTTTIGEPENKSKQNEMLVAAAAVGVATVFAAPFSGVLFSIEVMSSHFSVRDYWRGFFAATCGAFIFRLLAVFNSEQETITSLYKTSFRVDVPFDLPEIFFFVALGGICGVLSCAYLFCQRTFLSFIKTNRYSSKLLATSKPVYSALATLLLASITYPPGVGHFLASRLSMKQHLDSLFDNHSWALMTQNSSPPWPEELDPQHLWWEWYHPRFTIFGTLAFFLVMKFWMLILATTIPMPAGYFMPIFILGAAIGRLLGEALAVAFPEGIVTGGVTNPIMPGGYALAGAAAFSGAVTHTISTALLAFELTGQIVHALPVLMAVLAANAIAQSCQPSFYDGTIIVKKLPYLPRILGRNIGSHHVRVEHFMNHSITTLAKDTPLEEVVKVVTSTDVTEYPLVESTESQILVGIVQRAQLVQALQAEPPSRAPGHQQCLQDILARGCPTEPVTLTLFSETTLHQAQNLFKLLNLQSLFVTSRGRAVGCVSWVEMKKAISNLTNPPAPK']],\n",
      "      dtype=object), array([1, 0, 1, 0, 0]))\n",
      "(2011, 1)\n",
      "Index(['Sequence'], dtype='object') label\n"
     ]
    }
   ],
   "source": [
    "transporters_data = read_csv(\"/Users/josediogomoura/machine_learning/datasets/si-datasets_update/transporters.csv\", sep=',', label=True, features=True)\n",
    "print(transporters_data.head())\n",
    "print(transporters_data.shape())\n",
    "print(transporters_data.features, transporters_data.label)"
   ],
   "metadata": {
    "collapsed": false,
    "pycharm": {
     "name": "#%%\n"
    }
   }
  },
  {
   "cell_type": "code",
   "execution_count": 29,
   "outputs": [],
   "source": [
    "pep_kmers = KMer(k=2, alphabet='PEPTIDE')"
   ],
   "metadata": {
    "collapsed": false,
    "pycharm": {
     "name": "#%%\n"
    }
   }
  },
  {
   "cell_type": "code",
   "execution_count": 30,
   "outputs": [
    {
     "data": {
      "text/plain": "<si.data.dataset.Dataset at 0x7f86395a5880>"
     },
     "execution_count": 30,
     "metadata": {},
     "output_type": "execute_result"
    }
   ],
   "source": [
    "pep_kmers.fit_transform(transporters_data)"
   ],
   "metadata": {
    "collapsed": false,
    "pycharm": {
     "name": "#%%\n"
    }
   }
  },
  {
   "cell_type": "code",
   "execution_count": 36,
   "outputs": [
    {
     "ename": "ValueError",
     "evalue": "could not convert string to float: 'MKKTLIALSVSAAAMATGVNAAELYNQDGTSLEMGGRAEARLSMKDGDAQDNSRIRLNFLGTQAINDNLYGVGFWEGEFTTNEQGGVDGDVNKDSSNLDTRYAYAGLGGAWGEFTYGKNEGALGVITDFTDIMAYHGNSAADKLAVADRSDNMMSYKGQFENLSVKASYRFADRKLNDAGTEYTDNGQDGYSLSAIYAVADTGLELGAGYADQDEANEYMLAASYTMGDLYFAGIFTDGEKAKTEGDYTGYELAGAYTLGQTVFTTTYNNAETNNETSANNFAVDASYYFKPNFRGYVSYNFNLIDSGDKLGKVGGNTTASKADAEDELALGLRYDF'",
     "output_type": "error",
     "traceback": [
      "\u001B[0;31m---------------------------------------------------------------------------\u001B[0m",
      "\u001B[0;31mValueError\u001B[0m                                Traceback (most recent call last)",
      "Cell \u001B[0;32mIn [36], line 2\u001B[0m\n\u001B[1;32m      1\u001B[0m \u001B[38;5;66;03m# scale the data\u001B[39;00m\n\u001B[0;32m----> 2\u001B[0m transporters_data\u001B[38;5;241m.\u001B[39mX \u001B[38;5;241m=\u001B[39m StandardScaler()\u001B[38;5;241m.\u001B[39mfit_transform(transporters_data\u001B[38;5;241m.\u001B[39mX)\n",
      "File \u001B[0;32m~/machine_learning/venv/lib/python3.9/site-packages/sklearn/base.py:867\u001B[0m, in \u001B[0;36mTransformerMixin.fit_transform\u001B[0;34m(self, X, y, **fit_params)\u001B[0m\n\u001B[1;32m    863\u001B[0m \u001B[38;5;66;03m# non-optimized default implementation; override when a better\u001B[39;00m\n\u001B[1;32m    864\u001B[0m \u001B[38;5;66;03m# method is possible for a given clustering algorithm\u001B[39;00m\n\u001B[1;32m    865\u001B[0m \u001B[38;5;28;01mif\u001B[39;00m y \u001B[38;5;129;01mis\u001B[39;00m \u001B[38;5;28;01mNone\u001B[39;00m:\n\u001B[1;32m    866\u001B[0m     \u001B[38;5;66;03m# fit method of arity 1 (unsupervised transformation)\u001B[39;00m\n\u001B[0;32m--> 867\u001B[0m     \u001B[38;5;28;01mreturn\u001B[39;00m \u001B[38;5;28;43mself\u001B[39;49m\u001B[38;5;241;43m.\u001B[39;49m\u001B[43mfit\u001B[49m\u001B[43m(\u001B[49m\u001B[43mX\u001B[49m\u001B[43m,\u001B[49m\u001B[43m \u001B[49m\u001B[38;5;241;43m*\u001B[39;49m\u001B[38;5;241;43m*\u001B[39;49m\u001B[43mfit_params\u001B[49m\u001B[43m)\u001B[49m\u001B[38;5;241m.\u001B[39mtransform(X)\n\u001B[1;32m    868\u001B[0m \u001B[38;5;28;01melse\u001B[39;00m:\n\u001B[1;32m    869\u001B[0m     \u001B[38;5;66;03m# fit method of arity 2 (supervised transformation)\u001B[39;00m\n\u001B[1;32m    870\u001B[0m     \u001B[38;5;28;01mreturn\u001B[39;00m \u001B[38;5;28mself\u001B[39m\u001B[38;5;241m.\u001B[39mfit(X, y, \u001B[38;5;241m*\u001B[39m\u001B[38;5;241m*\u001B[39mfit_params)\u001B[38;5;241m.\u001B[39mtransform(X)\n",
      "File \u001B[0;32m~/machine_learning/venv/lib/python3.9/site-packages/sklearn/preprocessing/_data.py:809\u001B[0m, in \u001B[0;36mStandardScaler.fit\u001B[0;34m(self, X, y, sample_weight)\u001B[0m\n\u001B[1;32m    807\u001B[0m \u001B[38;5;66;03m# Reset internal state before fitting\u001B[39;00m\n\u001B[1;32m    808\u001B[0m \u001B[38;5;28mself\u001B[39m\u001B[38;5;241m.\u001B[39m_reset()\n\u001B[0;32m--> 809\u001B[0m \u001B[38;5;28;01mreturn\u001B[39;00m \u001B[38;5;28;43mself\u001B[39;49m\u001B[38;5;241;43m.\u001B[39;49m\u001B[43mpartial_fit\u001B[49m\u001B[43m(\u001B[49m\u001B[43mX\u001B[49m\u001B[43m,\u001B[49m\u001B[43m \u001B[49m\u001B[43my\u001B[49m\u001B[43m,\u001B[49m\u001B[43m \u001B[49m\u001B[43msample_weight\u001B[49m\u001B[43m)\u001B[49m\n",
      "File \u001B[0;32m~/machine_learning/venv/lib/python3.9/site-packages/sklearn/preprocessing/_data.py:844\u001B[0m, in \u001B[0;36mStandardScaler.partial_fit\u001B[0;34m(self, X, y, sample_weight)\u001B[0m\n\u001B[1;32m    812\u001B[0m \u001B[38;5;124;03m\"\"\"Online computation of mean and std on X for later scaling.\u001B[39;00m\n\u001B[1;32m    813\u001B[0m \n\u001B[1;32m    814\u001B[0m \u001B[38;5;124;03mAll of X is processed as a single batch. This is intended for cases\u001B[39;00m\n\u001B[0;32m   (...)\u001B[0m\n\u001B[1;32m    841\u001B[0m \u001B[38;5;124;03m    Fitted scaler.\u001B[39;00m\n\u001B[1;32m    842\u001B[0m \u001B[38;5;124;03m\"\"\"\u001B[39;00m\n\u001B[1;32m    843\u001B[0m first_call \u001B[38;5;241m=\u001B[39m \u001B[38;5;129;01mnot\u001B[39;00m \u001B[38;5;28mhasattr\u001B[39m(\u001B[38;5;28mself\u001B[39m, \u001B[38;5;124m\"\u001B[39m\u001B[38;5;124mn_samples_seen_\u001B[39m\u001B[38;5;124m\"\u001B[39m)\n\u001B[0;32m--> 844\u001B[0m X \u001B[38;5;241m=\u001B[39m \u001B[38;5;28;43mself\u001B[39;49m\u001B[38;5;241;43m.\u001B[39;49m\u001B[43m_validate_data\u001B[49m\u001B[43m(\u001B[49m\n\u001B[1;32m    845\u001B[0m \u001B[43m    \u001B[49m\u001B[43mX\u001B[49m\u001B[43m,\u001B[49m\n\u001B[1;32m    846\u001B[0m \u001B[43m    \u001B[49m\u001B[43maccept_sparse\u001B[49m\u001B[38;5;241;43m=\u001B[39;49m\u001B[43m(\u001B[49m\u001B[38;5;124;43m\"\u001B[39;49m\u001B[38;5;124;43mcsr\u001B[39;49m\u001B[38;5;124;43m\"\u001B[39;49m\u001B[43m,\u001B[49m\u001B[43m \u001B[49m\u001B[38;5;124;43m\"\u001B[39;49m\u001B[38;5;124;43mcsc\u001B[39;49m\u001B[38;5;124;43m\"\u001B[39;49m\u001B[43m)\u001B[49m\u001B[43m,\u001B[49m\n\u001B[1;32m    847\u001B[0m \u001B[43m    \u001B[49m\u001B[43mdtype\u001B[49m\u001B[38;5;241;43m=\u001B[39;49m\u001B[43mFLOAT_DTYPES\u001B[49m\u001B[43m,\u001B[49m\n\u001B[1;32m    848\u001B[0m \u001B[43m    \u001B[49m\u001B[43mforce_all_finite\u001B[49m\u001B[38;5;241;43m=\u001B[39;49m\u001B[38;5;124;43m\"\u001B[39;49m\u001B[38;5;124;43mallow-nan\u001B[39;49m\u001B[38;5;124;43m\"\u001B[39;49m\u001B[43m,\u001B[49m\n\u001B[1;32m    849\u001B[0m \u001B[43m    \u001B[49m\u001B[43mreset\u001B[49m\u001B[38;5;241;43m=\u001B[39;49m\u001B[43mfirst_call\u001B[49m\u001B[43m,\u001B[49m\n\u001B[1;32m    850\u001B[0m \u001B[43m\u001B[49m\u001B[43m)\u001B[49m\n\u001B[1;32m    851\u001B[0m n_features \u001B[38;5;241m=\u001B[39m X\u001B[38;5;241m.\u001B[39mshape[\u001B[38;5;241m1\u001B[39m]\n\u001B[1;32m    853\u001B[0m \u001B[38;5;28;01mif\u001B[39;00m sample_weight \u001B[38;5;129;01mis\u001B[39;00m \u001B[38;5;129;01mnot\u001B[39;00m \u001B[38;5;28;01mNone\u001B[39;00m:\n",
      "File \u001B[0;32m~/machine_learning/venv/lib/python3.9/site-packages/sklearn/base.py:577\u001B[0m, in \u001B[0;36mBaseEstimator._validate_data\u001B[0;34m(self, X, y, reset, validate_separately, **check_params)\u001B[0m\n\u001B[1;32m    575\u001B[0m     \u001B[38;5;28;01mraise\u001B[39;00m \u001B[38;5;167;01mValueError\u001B[39;00m(\u001B[38;5;124m\"\u001B[39m\u001B[38;5;124mValidation should be done on X, y or both.\u001B[39m\u001B[38;5;124m\"\u001B[39m)\n\u001B[1;32m    576\u001B[0m \u001B[38;5;28;01melif\u001B[39;00m \u001B[38;5;129;01mnot\u001B[39;00m no_val_X \u001B[38;5;129;01mand\u001B[39;00m no_val_y:\n\u001B[0;32m--> 577\u001B[0m     X \u001B[38;5;241m=\u001B[39m \u001B[43mcheck_array\u001B[49m\u001B[43m(\u001B[49m\u001B[43mX\u001B[49m\u001B[43m,\u001B[49m\u001B[43m \u001B[49m\u001B[43minput_name\u001B[49m\u001B[38;5;241;43m=\u001B[39;49m\u001B[38;5;124;43m\"\u001B[39;49m\u001B[38;5;124;43mX\u001B[39;49m\u001B[38;5;124;43m\"\u001B[39;49m\u001B[43m,\u001B[49m\u001B[43m \u001B[49m\u001B[38;5;241;43m*\u001B[39;49m\u001B[38;5;241;43m*\u001B[39;49m\u001B[43mcheck_params\u001B[49m\u001B[43m)\u001B[49m\n\u001B[1;32m    578\u001B[0m     out \u001B[38;5;241m=\u001B[39m X\n\u001B[1;32m    579\u001B[0m \u001B[38;5;28;01melif\u001B[39;00m no_val_X \u001B[38;5;129;01mand\u001B[39;00m \u001B[38;5;129;01mnot\u001B[39;00m no_val_y:\n",
      "File \u001B[0;32m~/machine_learning/venv/lib/python3.9/site-packages/sklearn/utils/validation.py:856\u001B[0m, in \u001B[0;36mcheck_array\u001B[0;34m(array, accept_sparse, accept_large_sparse, dtype, order, copy, force_all_finite, ensure_2d, allow_nd, ensure_min_samples, ensure_min_features, estimator, input_name)\u001B[0m\n\u001B[1;32m    854\u001B[0m         array \u001B[38;5;241m=\u001B[39m array\u001B[38;5;241m.\u001B[39mastype(dtype, casting\u001B[38;5;241m=\u001B[39m\u001B[38;5;124m\"\u001B[39m\u001B[38;5;124munsafe\u001B[39m\u001B[38;5;124m\"\u001B[39m, copy\u001B[38;5;241m=\u001B[39m\u001B[38;5;28;01mFalse\u001B[39;00m)\n\u001B[1;32m    855\u001B[0m     \u001B[38;5;28;01melse\u001B[39;00m:\n\u001B[0;32m--> 856\u001B[0m         array \u001B[38;5;241m=\u001B[39m \u001B[43mnp\u001B[49m\u001B[38;5;241;43m.\u001B[39;49m\u001B[43masarray\u001B[49m\u001B[43m(\u001B[49m\u001B[43marray\u001B[49m\u001B[43m,\u001B[49m\u001B[43m \u001B[49m\u001B[43morder\u001B[49m\u001B[38;5;241;43m=\u001B[39;49m\u001B[43morder\u001B[49m\u001B[43m,\u001B[49m\u001B[43m \u001B[49m\u001B[43mdtype\u001B[49m\u001B[38;5;241;43m=\u001B[39;49m\u001B[43mdtype\u001B[49m\u001B[43m)\u001B[49m\n\u001B[1;32m    857\u001B[0m \u001B[38;5;28;01mexcept\u001B[39;00m ComplexWarning \u001B[38;5;28;01mas\u001B[39;00m complex_warning:\n\u001B[1;32m    858\u001B[0m     \u001B[38;5;28;01mraise\u001B[39;00m \u001B[38;5;167;01mValueError\u001B[39;00m(\n\u001B[1;32m    859\u001B[0m         \u001B[38;5;124m\"\u001B[39m\u001B[38;5;124mComplex data not supported\u001B[39m\u001B[38;5;130;01m\\n\u001B[39;00m\u001B[38;5;132;01m{}\u001B[39;00m\u001B[38;5;130;01m\\n\u001B[39;00m\u001B[38;5;124m\"\u001B[39m\u001B[38;5;241m.\u001B[39mformat(array)\n\u001B[1;32m    860\u001B[0m     ) \u001B[38;5;28;01mfrom\u001B[39;00m \u001B[38;5;21;01mcomplex_warning\u001B[39;00m\n",
      "\u001B[0;31mValueError\u001B[0m: could not convert string to float: 'MKKTLIALSVSAAAMATGVNAAELYNQDGTSLEMGGRAEARLSMKDGDAQDNSRIRLNFLGTQAINDNLYGVGFWEGEFTTNEQGGVDGDVNKDSSNLDTRYAYAGLGGAWGEFTYGKNEGALGVITDFTDIMAYHGNSAADKLAVADRSDNMMSYKGQFENLSVKASYRFADRKLNDAGTEYTDNGQDGYSLSAIYAVADTGLELGAGYADQDEANEYMLAASYTMGDLYFAGIFTDGEKAKTEGDYTGYELAGAYTLGQTVFTTTYNNAETNNETSANNFAVDASYYFKPNFRGYVSYNFNLIDSGDKLGKVGGNTTASKADAEDELALGLRYDF'"
     ]
    }
   ],
   "source": [
    "# scale the data\n",
    "transporters_data.X = StandardScaler().fit_transform(transporters_data.X)"
   ],
   "metadata": {
    "collapsed": false,
    "pycharm": {
     "name": "#%%\n"
    }
   }
  },
  {
   "cell_type": "code",
   "execution_count": null,
   "outputs": [],
   "source": [],
   "metadata": {
    "collapsed": false,
    "pycharm": {
     "name": "#%%\n"
    }
   }
  }
 ],
 "metadata": {
  "kernelspec": {
   "display_name": "Python 3",
   "language": "python",
   "name": "python3"
  },
  "language_info": {
   "codemirror_mode": {
    "name": "ipython",
    "version": 2
   },
   "file_extension": ".py",
   "mimetype": "text/x-python",
   "name": "python",
   "nbconvert_exporter": "python",
   "pygments_lexer": "ipython2",
   "version": "2.7.6"
  }
 },
 "nbformat": 4,
 "nbformat_minor": 0
}