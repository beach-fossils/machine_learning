{
 "cells": [
  {
   "cell_type": "markdown",
   "source": [
    "Avaliação 1. Setembro, 2022"
   ],
   "metadata": {
    "collapsed": false,
    "pycharm": {
     "name": "#%% md\n"
    }
   }
  },
  {
   "cell_type": "code",
   "execution_count": 1,
   "outputs": [
    {
     "data": {
      "text/plain": "   sepal_length  sepal_width  petal_length  petal_width        class\n0           5.1          3.5           1.4          0.2  Iris-setosa\n1           4.9          3.0           1.4          0.2  Iris-setosa\n2           4.7          3.2           1.3          0.2  Iris-setosa\n3           4.6          3.1           1.5          0.2  Iris-setosa\n4           5.0          3.6           1.4          0.2  Iris-setosa",
      "text/html": "<div>\n<style scoped>\n    .dataframe tbody tr th:only-of-type {\n        vertical-align: middle;\n    }\n\n    .dataframe tbody tr th {\n        vertical-align: top;\n    }\n\n    .dataframe thead th {\n        text-align: right;\n    }\n</style>\n<table border=\"1\" class=\"dataframe\">\n  <thead>\n    <tr style=\"text-align: right;\">\n      <th></th>\n      <th>sepal_length</th>\n      <th>sepal_width</th>\n      <th>petal_length</th>\n      <th>petal_width</th>\n      <th>class</th>\n    </tr>\n  </thead>\n  <tbody>\n    <tr>\n      <th>0</th>\n      <td>5.1</td>\n      <td>3.5</td>\n      <td>1.4</td>\n      <td>0.2</td>\n      <td>Iris-setosa</td>\n    </tr>\n    <tr>\n      <th>1</th>\n      <td>4.9</td>\n      <td>3.0</td>\n      <td>1.4</td>\n      <td>0.2</td>\n      <td>Iris-setosa</td>\n    </tr>\n    <tr>\n      <th>2</th>\n      <td>4.7</td>\n      <td>3.2</td>\n      <td>1.3</td>\n      <td>0.2</td>\n      <td>Iris-setosa</td>\n    </tr>\n    <tr>\n      <th>3</th>\n      <td>4.6</td>\n      <td>3.1</td>\n      <td>1.5</td>\n      <td>0.2</td>\n      <td>Iris-setosa</td>\n    </tr>\n    <tr>\n      <th>4</th>\n      <td>5.0</td>\n      <td>3.6</td>\n      <td>1.4</td>\n      <td>0.2</td>\n      <td>Iris-setosa</td>\n    </tr>\n  </tbody>\n</table>\n</div>"
     },
     "execution_count": 1,
     "metadata": {},
     "output_type": "execute_result"
    }
   ],
   "source": [
    "#§Exercício 1: NumPy array Indexing/Slicing\n",
    "#1.1)\n",
    "import pandas as pd\n",
    "import numpy as np\n",
    "\n",
    "iris = pd.read_csv('/Users/josediogomoura/machine_learning/datasets/datasets/iris.csv')\n",
    "iris.head()"
   ],
   "metadata": {
    "collapsed": false,
    "pycharm": {
     "name": "#%%\n"
    }
   }
  },
  {
   "cell_type": "code",
   "execution_count": 2,
   "outputs": [
    {
     "data": {
      "text/plain": "(150,)"
     },
     "execution_count": 2,
     "metadata": {},
     "output_type": "execute_result"
    }
   ],
   "source": [
    "#1.2) Seleciona a primeira variável independente e verifica a dimensão do array resultante\n",
    "first_var_d = iris.iloc[:,0]\n",
    "first_var_d.shape # 150 linhas e 1 coluna"
   ],
   "metadata": {
    "collapsed": false,
    "pycharm": {
     "name": "#%%\n"
    }
   }
  },
  {
   "cell_type": "code",
   "execution_count": 3,
   "outputs": [
    {
     "name": "stderr",
     "output_type": "stream",
     "text": [
      "/var/folders/71/63pxzqvs6xs7s4r3rgx_50s40000gn/T/ipykernel_9757/1834716668.py:2: FutureWarning: The default value of numeric_only in DataFrame.mean is deprecated. In a future version, it will default to False. In addition, specifying 'numeric_only=None' is deprecated. Select only valid columns or specify the value of numeric_only to silence this warning.\n",
      "  iris.iloc[-5:,:].mean()\n"
     ]
    },
    {
     "data": {
      "text/plain": "sepal_length    6.32\nsepal_width     2.98\npetal_length    5.18\npetal_width     2.06\ndtype: float64"
     },
     "execution_count": 3,
     "metadata": {},
     "output_type": "execute_result"
    }
   ],
   "source": [
    "#1.3) Seleciona as últimas 5 amostras do iris dataset. Qual a média das últimas 5 amostras para cada variável independente/feature?\n",
    "iris.iloc[-5:,:].mean()"
   ],
   "metadata": {
    "collapsed": false,
    "pycharm": {
     "name": "#%%\n"
    }
   }
  },
  {
   "cell_type": "code",
   "execution_count": 4,
   "outputs": [
    {
     "data": {
      "text/plain": "    sepal_length  sepal_width  petal_length  petal_width            class\n50           7.0          3.2           4.7          1.4  Iris-versicolor\n51           6.4          3.2           4.5          1.5  Iris-versicolor\n52           6.9          3.1           4.9          1.5  Iris-versicolor\n53           5.5          2.3           4.0          1.3  Iris-versicolor\n54           6.5          2.8           4.6          1.5  Iris-versicolor",
      "text/html": "<div>\n<style scoped>\n    .dataframe tbody tr th:only-of-type {\n        vertical-align: middle;\n    }\n\n    .dataframe tbody tr th {\n        vertical-align: top;\n    }\n\n    .dataframe thead th {\n        text-align: right;\n    }\n</style>\n<table border=\"1\" class=\"dataframe\">\n  <thead>\n    <tr style=\"text-align: right;\">\n      <th></th>\n      <th>sepal_length</th>\n      <th>sepal_width</th>\n      <th>petal_length</th>\n      <th>petal_width</th>\n      <th>class</th>\n    </tr>\n  </thead>\n  <tbody>\n    <tr>\n      <th>50</th>\n      <td>7.0</td>\n      <td>3.2</td>\n      <td>4.7</td>\n      <td>1.4</td>\n      <td>Iris-versicolor</td>\n    </tr>\n    <tr>\n      <th>51</th>\n      <td>6.4</td>\n      <td>3.2</td>\n      <td>4.5</td>\n      <td>1.5</td>\n      <td>Iris-versicolor</td>\n    </tr>\n    <tr>\n      <th>52</th>\n      <td>6.9</td>\n      <td>3.1</td>\n      <td>4.9</td>\n      <td>1.5</td>\n      <td>Iris-versicolor</td>\n    </tr>\n    <tr>\n      <th>53</th>\n      <td>5.5</td>\n      <td>2.3</td>\n      <td>4.0</td>\n      <td>1.3</td>\n      <td>Iris-versicolor</td>\n    </tr>\n    <tr>\n      <th>54</th>\n      <td>6.5</td>\n      <td>2.8</td>\n      <td>4.6</td>\n      <td>1.5</td>\n      <td>Iris-versicolor</td>\n    </tr>\n  </tbody>\n</table>\n</div>"
     },
     "execution_count": 4,
     "metadata": {},
     "output_type": "execute_result"
    }
   ],
   "source": [
    "#1.4) Seleciona todas as amostras do dataset com valor superior ou igual a 1. Nota que o array resultante deve ter apenas amostras com valores iguais ou superiores a 1 para todas as features\n",
    "\n",
    "superior_1 = iris.loc[(iris['sepal_length'] >= 1) & (iris['sepal_width'] >= 1) & (iris['petal_length'] >= 1) & (iris['petal_width'] >= 1)]\n",
    "superior_1.dropna()\n",
    "superior_1.head()"
   ],
   "metadata": {
    "collapsed": false,
    "pycharm": {
     "name": "#%%\n"
    }
   }
  },
  {
   "cell_type": "code",
   "execution_count": 5,
   "outputs": [
    {
     "data": {
      "text/plain": "(50, 5)"
     },
     "execution_count": 5,
     "metadata": {},
     "output_type": "execute_result"
    }
   ],
   "source": [
    "#1.5) Seleciona todas as amostras com a classe/label igual a ‘Irissetosa’. Quantas amostras obténs?\n",
    "iris.loc[iris['class'] == 'Iris-setosa'].shape # 50 amostras e 5 colunas (variáveis)"
   ],
   "metadata": {
    "collapsed": false,
    "pycharm": {
     "name": "#%%\n"
    }
   }
  },
  {
   "cell_type": "code",
   "execution_count": 6,
   "outputs": [
    {
     "name": "stdout",
     "output_type": "stream",
     "text": [
      "this is de last column 0     43\n",
      "1     44\n",
      "2     87\n",
      "3     52\n",
      "4     60\n",
      "      ..\n",
      "95    87\n",
      "96    84\n",
      "97    51\n",
      "98    41\n",
      "99     4\n",
      "Name: E, Length: 100, dtype: int64\n",
      "this are the features Index(['A', 'B', 'C', 'D'], dtype='object')\n",
      "this is label: E\n",
      "this is x        A   B   C   D\n",
      "0    NaN  43  29  81\n",
      "1    NaN  91  33  35\n",
      "2    NaN  96  89  85\n",
      "3    NaN   1  74  10\n",
      "4    NaN  78  19  17\n",
      "..   ...  ..  ..  ..\n",
      "95  89.0  23  75  85\n",
      "96   5.0   2  44  86\n",
      "97  34.0  88  32  10\n",
      "98  67.0  48  94  17\n",
      "99  61.0  68   4  80\n",
      "\n",
      "[100 rows x 4 columns]\n"
     ]
    },
    {
     "data": {
      "text/plain": "                   A         B       C       D\nmean       50.411111   51.3100   48.50   48.30\nmedian           NaN   50.5000   50.50   46.50\nmin         1.000000    1.0000    1.00    0.00\nmax        98.000000   98.0000   98.00   99.00\nvariance  872.308765  793.9739  803.95  937.97",
      "text/html": "<div>\n<style scoped>\n    .dataframe tbody tr th:only-of-type {\n        vertical-align: middle;\n    }\n\n    .dataframe tbody tr th {\n        vertical-align: top;\n    }\n\n    .dataframe thead th {\n        text-align: right;\n    }\n</style>\n<table border=\"1\" class=\"dataframe\">\n  <thead>\n    <tr style=\"text-align: right;\">\n      <th></th>\n      <th>A</th>\n      <th>B</th>\n      <th>C</th>\n      <th>D</th>\n    </tr>\n  </thead>\n  <tbody>\n    <tr>\n      <th>mean</th>\n      <td>50.411111</td>\n      <td>51.3100</td>\n      <td>48.50</td>\n      <td>48.30</td>\n    </tr>\n    <tr>\n      <th>median</th>\n      <td>NaN</td>\n      <td>50.5000</td>\n      <td>50.50</td>\n      <td>46.50</td>\n    </tr>\n    <tr>\n      <th>min</th>\n      <td>1.000000</td>\n      <td>1.0000</td>\n      <td>1.00</td>\n      <td>0.00</td>\n    </tr>\n    <tr>\n      <th>max</th>\n      <td>98.000000</td>\n      <td>98.0000</td>\n      <td>98.00</td>\n      <td>99.00</td>\n    </tr>\n    <tr>\n      <th>variance</th>\n      <td>872.308765</td>\n      <td>793.9739</td>\n      <td>803.95</td>\n      <td>937.97</td>\n    </tr>\n  </tbody>\n</table>\n</div>"
     },
     "execution_count": 6,
     "metadata": {},
     "output_type": "execute_result"
    }
   ],
   "source": [
    "#§Exercício 2: NumPy array Indexing/Slicing\n",
    "\n",
    "import pandas as pd\n",
    "import random\n",
    "from src.si.data.dataset import *\n",
    "\n",
    "# create a dataset with missing values (NaN)\n",
    "data = np.random.randint(0, 100, size=(100, 5))\n",
    "data = pd.DataFrame(data, columns=['A', 'B', 'C', 'D', 'E'])\n",
    "data.iloc[0:10, 0] = np.nan # 10 missing values in column A\n",
    "data.head()\n",
    "\n",
    "\n",
    "# y is the column of the target variable 'E' at the end of the dataset\n",
    "y = data['E']\n",
    "print('this is de last column', y)\n",
    "# features is the name of the columns of the dataset without the target variable\n",
    "features = data.columns[:-1]\n",
    "print('this are the features',features)\n",
    "\n",
    "# label is the name of the target variable\n",
    "label = data.columns[-1]\n",
    "print('this is label:', label)\n",
    "\n",
    "# x is the dataset without the target variable\n",
    "x = data[features]\n",
    "print('this is x', x)\n",
    "\n",
    "# create a dataset object\n",
    "dataset = Dataset(x, y, features, label)\n",
    "dataset.summary()\n"
   ],
   "metadata": {
    "collapsed": false,
    "pycharm": {
     "name": "#%%\n"
    }
   }
  },
  {
   "cell_type": "code",
   "execution_count": 7,
   "outputs": [],
   "source": [
    "# use the method to remove the missing values\n",
    "dataset.dropna()"
   ],
   "metadata": {
    "collapsed": false,
    "pycharm": {
     "name": "#%%\n"
    }
   }
  },
  {
   "cell_type": "code",
   "execution_count": 9,
   "outputs": [
    {
     "data": {
      "text/plain": "                   A           B       C           D\nmean       50.411111   51.088889   49.30   48.855556\nmedian     55.000000   50.500000   52.00   46.500000\nmin         1.000000    2.000000    1.00    0.000000\nmax        98.000000   98.000000   98.00   99.000000\nvariance  872.308765  748.325432  820.41  926.545802",
      "text/html": "<div>\n<style scoped>\n    .dataframe tbody tr th:only-of-type {\n        vertical-align: middle;\n    }\n\n    .dataframe tbody tr th {\n        vertical-align: top;\n    }\n\n    .dataframe thead th {\n        text-align: right;\n    }\n</style>\n<table border=\"1\" class=\"dataframe\">\n  <thead>\n    <tr style=\"text-align: right;\">\n      <th></th>\n      <th>A</th>\n      <th>B</th>\n      <th>C</th>\n      <th>D</th>\n    </tr>\n  </thead>\n  <tbody>\n    <tr>\n      <th>mean</th>\n      <td>50.411111</td>\n      <td>51.088889</td>\n      <td>49.30</td>\n      <td>48.855556</td>\n    </tr>\n    <tr>\n      <th>median</th>\n      <td>55.000000</td>\n      <td>50.500000</td>\n      <td>52.00</td>\n      <td>46.500000</td>\n    </tr>\n    <tr>\n      <th>min</th>\n      <td>1.000000</td>\n      <td>2.000000</td>\n      <td>1.00</td>\n      <td>0.000000</td>\n    </tr>\n    <tr>\n      <th>max</th>\n      <td>98.000000</td>\n      <td>98.000000</td>\n      <td>98.00</td>\n      <td>99.000000</td>\n    </tr>\n    <tr>\n      <th>variance</th>\n      <td>872.308765</td>\n      <td>748.325432</td>\n      <td>820.41</td>\n      <td>926.545802</td>\n    </tr>\n  </tbody>\n</table>\n</div>"
     },
     "execution_count": 9,
     "metadata": {},
     "output_type": "execute_result"
    }
   ],
   "source": [
    "dataset.summary()  # no longer has missing values"
   ],
   "metadata": {
    "collapsed": false,
    "pycharm": {
     "name": "#%%\n"
    }
   }
  },
  {
   "cell_type": "code",
   "execution_count": 8,
   "outputs": [
    {
     "data": {
      "text/plain": "sepal_length    4\nsepal_width     5\npetal_length    3\npetal_width     5\nclass           0\ndtype: int64"
     },
     "execution_count": 8,
     "metadata": {},
     "output_type": "execute_result"
    }
   ],
   "source": [
    "import pandas as pd\n",
    "import numpy as np\n",
    "\n",
    "\n",
    "# read the dataset\n",
    "data = pd.read_csv('/Users/josediogomoura/machine_learning/datasets/datasets/iris_missing_data.csv')\n",
    "\n",
    "# check for missing values\n",
    "data.isna().sum()"
   ],
   "metadata": {
    "collapsed": false,
    "pycharm": {
     "name": "#%%\n"
    }
   }
  },
  {
   "cell_type": "code",
   "execution_count": 1,
   "outputs": [
    {
     "name": "stdout",
     "output_type": "stream",
     "text": [
      "          sepal_length  sepal_width  petal_length  petal_width\n",
      "mean               NaN          NaN           NaN          NaN\n",
      "median             NaN          NaN           NaN          NaN\n",
      "min                NaN          NaN           NaN          NaN\n",
      "max                NaN          NaN           NaN          NaN\n",
      "variance           NaN          NaN           NaN          NaN\n"
     ]
    }
   ],
   "source": [
    "from si.io.CSV import read_csv\n",
    "from src.si import *\n",
    "from si.data.dataset import Dataset\n",
    "\n",
    "dataf = read_csv(('/Users/josediogomoura/machine_learning/datasets/datasets/iris_missing_data.csv'), sep=',', features=True, label=True)\n",
    "\n",
    "print(dataf.summary())\n",
    "\n",
    "# make dataf a dataset object\n",
    "dataset = Dataset(dataf.X, dataf.y, dataf.features, dataf.label)"
   ],
   "metadata": {
    "collapsed": false,
    "pycharm": {
     "name": "#%%\n"
    }
   }
  },
  {
   "cell_type": "code",
   "execution_count": 2,
   "outputs": [],
   "source": [
    "dataset.dropna()"
   ],
   "metadata": {
    "collapsed": false,
    "pycharm": {
     "name": "#%%\n"
    }
   }
  },
  {
   "cell_type": "code",
   "execution_count": 3,
   "outputs": [
    {
     "data": {
      "text/plain": "          sepal_length  sepal_width  petal_length  petal_width\nmean          5.852239     3.047761      3.780597     1.202239\nmedian        5.800000     3.000000      4.350000     1.300000\nmin           4.300000     2.000000      1.000000     0.100000\nmax           7.900000     4.200000      6.900000     2.500000\nvariance      0.705928     0.175480      3.122310     0.579025",
      "text/html": "<div>\n<style scoped>\n    .dataframe tbody tr th:only-of-type {\n        vertical-align: middle;\n    }\n\n    .dataframe tbody tr th {\n        vertical-align: top;\n    }\n\n    .dataframe thead th {\n        text-align: right;\n    }\n</style>\n<table border=\"1\" class=\"dataframe\">\n  <thead>\n    <tr style=\"text-align: right;\">\n      <th></th>\n      <th>sepal_length</th>\n      <th>sepal_width</th>\n      <th>petal_length</th>\n      <th>petal_width</th>\n    </tr>\n  </thead>\n  <tbody>\n    <tr>\n      <th>mean</th>\n      <td>5.852239</td>\n      <td>3.047761</td>\n      <td>3.780597</td>\n      <td>1.202239</td>\n    </tr>\n    <tr>\n      <th>median</th>\n      <td>5.800000</td>\n      <td>3.000000</td>\n      <td>4.350000</td>\n      <td>1.300000</td>\n    </tr>\n    <tr>\n      <th>min</th>\n      <td>4.300000</td>\n      <td>2.000000</td>\n      <td>1.000000</td>\n      <td>0.100000</td>\n    </tr>\n    <tr>\n      <th>max</th>\n      <td>7.900000</td>\n      <td>4.200000</td>\n      <td>6.900000</td>\n      <td>2.500000</td>\n    </tr>\n    <tr>\n      <th>variance</th>\n      <td>0.705928</td>\n      <td>0.175480</td>\n      <td>3.122310</td>\n      <td>0.579025</td>\n    </tr>\n  </tbody>\n</table>\n</div>"
     },
     "execution_count": 3,
     "metadata": {},
     "output_type": "execute_result"
    }
   ],
   "source": [
    "dataset.summary()"
   ],
   "metadata": {
    "collapsed": false,
    "pycharm": {
     "name": "#%%\n"
    }
   }
  },
  {
   "cell_type": "code",
   "execution_count": null,
   "outputs": [],
   "source": [],
   "metadata": {
    "collapsed": false,
    "pycharm": {
     "name": "#%%\n"
    }
   }
  }
 ],
 "metadata": {
  "kernelspec": {
   "display_name": "Python 3",
   "language": "python",
   "name": "python3"
  },
  "language_info": {
   "codemirror_mode": {
    "name": "ipython",
    "version": 2
   },
   "file_extension": ".py",
   "mimetype": "text/x-python",
   "name": "python",
   "nbconvert_exporter": "python",
   "pygments_lexer": "ipython2",
   "version": "2.7.6"
  }
 },
 "nbformat": 4,
 "nbformat_minor": 0
}