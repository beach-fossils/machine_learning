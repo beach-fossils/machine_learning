{
 "cells": [
  {
   "cell_type": "markdown",
   "source": [
    "Exercício 3: Implementar o KNNRegressor com RMSE"
   ],
   "metadata": {
    "collapsed": false,
    "pycharm": {
     "name": "#%% md\n"
    }
   }
  },
  {
   "cell_type": "code",
   "execution_count": 17,
   "outputs": [],
   "source": [
    "# 3.1 Adiciona a métrica RMSE (RMQE em português) ao sub-package metrics. Deves criar um módulo chamado rmse.py"
   ],
   "metadata": {
    "collapsed": false,
    "pycharm": {
     "name": "#%%\n"
    }
   }
  },
  {
   "cell_type": "code",
   "execution_count": 16,
   "outputs": [
    {
     "ename": "TypeError",
     "evalue": "object of type 'Dataset' has no len()",
     "output_type": "error",
     "traceback": [
      "\u001B[0;31m---------------------------------------------------------------------------\u001B[0m",
      "\u001B[0;31mTypeError\u001B[0m                                 Traceback (most recent call last)",
      "Cell \u001B[0;32mIn [16], line 15\u001B[0m\n\u001B[1;32m     11\u001B[0m dataset\u001B[38;5;241m.\u001B[39msummary()\n\u001B[1;32m     14\u001B[0m \u001B[38;5;66;03m# split the dataset into train and test\u001B[39;00m\n\u001B[0;32m---> 15\u001B[0m train, test \u001B[38;5;241m=\u001B[39m train_test_split(dataset, test_size\u001B[38;5;241m=\u001B[39m\u001B[38;5;241m0.2\u001B[39m)\n",
      "File \u001B[0;32m~/machine_learning/src/si/model_selection/split.py:14\u001B[0m, in \u001B[0;36mtrain_test_split\u001B[0;34m(dataset, test_size, random_state)\u001B[0m\n\u001B[1;32m     11\u001B[0m     np\u001B[38;5;241m.\u001B[39mrandom\u001B[38;5;241m.\u001B[39mseed(random_state)\n\u001B[1;32m     13\u001B[0m \u001B[38;5;66;03m# get dataset size\u001B[39;00m\n\u001B[0;32m---> 14\u001B[0m n_samples \u001B[38;5;241m=\u001B[39m \u001B[38;5;28;43mlen\u001B[39;49m\u001B[43m(\u001B[49m\u001B[43mdataset\u001B[49m\u001B[43m)\u001B[49m  \u001B[38;5;66;03m# n_samples é o número de amostras do dataset\u001B[39;00m\n\u001B[1;32m     16\u001B[0m \u001B[38;5;66;03m# get number of samples in the test set\u001B[39;00m\n\u001B[1;32m     17\u001B[0m n_test_samples \u001B[38;5;241m=\u001B[39m \u001B[38;5;28mint\u001B[39m(n_samples \u001B[38;5;241m*\u001B[39m test_size)  \u001B[38;5;66;03m# n_test_samples é o número de amostras do dataset de teste\u001B[39;00m\n",
      "\u001B[0;31mTypeError\u001B[0m: object of type 'Dataset' has no len()"
     ]
    }
   ],
   "source": [
    "# testing the knn_regressor.py using the dataset cpu.csv\n",
    "from src.si.neighbors.knn_regressor import KNNRegressor\n",
    "from si.data.dataset import Dataset\n",
    "from si.model_selection.split import train_test_split\n",
    "import pandas as pd\n",
    "import numpy as np\n",
    "from si.io.CSV import read_csv\n",
    "\n",
    "# read the dataset\n",
    "dataset = read_csv('/Users/josediogomoura/machine_learning/datasets/si-datasets/cpu.csv', sep=',', features=True, label=True)\n",
    "dataset.summary()\n",
    "\n",
    "\n",
    "# split the dataset into train and test\n",
    "train, test = train_test_split(dataset, test_size=0.2)\n",
    "\n",
    "# create the model\n",
    "#model = KNNRegressor(k=3)\n",
    "\n",
    "# fit the model\n",
    "#model.fit(train)\n",
    "\n",
    "# predict the test set\n",
    "#y_pred = model.predict(test)\n",
    "\n",
    "# print the predictions\n",
    "#print(y_pred)\n",
    "\n",
    "# print the real values\n",
    "#print(test.y)\n",
    "\n",
    "# print the RMSE\n",
    "#print(model.score(test))"
   ],
   "metadata": {
    "collapsed": false,
    "pycharm": {
     "name": "#%%\n"
    }
   }
  },
  {
   "cell_type": "code",
   "execution_count": 2,
   "outputs": [],
   "source": [],
   "metadata": {
    "collapsed": false,
    "pycharm": {
     "name": "#%%\n"
    }
   }
  },
  {
   "cell_type": "code",
   "execution_count": 14,
   "outputs": [
    {
     "name": "stdout",
     "output_type": "stream",
     "text": [
      "[[ 1  2  3  4  5  6  7  8  9 10]\n",
      " [ 1  2  3  4  5  6  7  8  9 10]]\n"
     ]
    }
   ],
   "source": [
    "# set as numpy array\n",
    "import numpy as np\n",
    "my_set = np.array(my_set)\n",
    "my_set.shape[0]\n",
    "print(my_set)"
   ],
   "metadata": {
    "collapsed": false,
    "pycharm": {
     "name": "#%%\n"
    }
   }
  },
  {
   "cell_type": "code",
   "execution_count": 13,
   "outputs": [
    {
     "data": {
      "text/plain": "2"
     },
     "execution_count": 13,
     "metadata": {},
     "output_type": "execute_result"
    }
   ],
   "source": [
    "len(my_set)"
   ],
   "metadata": {
    "collapsed": false,
    "pycharm": {
     "name": "#%%\n"
    }
   }
  },
  {
   "cell_type": "code",
   "execution_count": null,
   "outputs": [],
   "source": [],
   "metadata": {
    "collapsed": false,
    "pycharm": {
     "name": "#%%\n"
    }
   }
  },
  {
   "cell_type": "code",
   "execution_count": null,
   "outputs": [],
   "source": [],
   "metadata": {
    "collapsed": false,
    "pycharm": {
     "name": "#%%\n"
    }
   }
  },
  {
   "cell_type": "code",
   "execution_count": 1,
   "outputs": [],
   "source": [],
   "metadata": {
    "collapsed": false,
    "pycharm": {
     "name": "#%%\n"
    }
   }
  },
  {
   "cell_type": "code",
   "execution_count": null,
   "outputs": [],
   "source": [],
   "metadata": {
    "collapsed": false,
    "pycharm": {
     "name": "#%%\n"
    }
   }
  }
 ],
 "metadata": {
  "kernelspec": {
   "display_name": "Python 3",
   "language": "python",
   "name": "python3"
  },
  "language_info": {
   "codemirror_mode": {
    "name": "ipython",
    "version": 2
   },
   "file_extension": ".py",
   "mimetype": "text/x-python",
   "name": "python",
   "nbconvert_exporter": "python",
   "pygments_lexer": "ipython2",
   "version": "2.7.6"
  }
 },
 "nbformat": 4,
 "nbformat_minor": 0
}