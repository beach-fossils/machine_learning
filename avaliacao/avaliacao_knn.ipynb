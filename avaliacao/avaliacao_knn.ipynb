{
 "cells": [
  {
   "cell_type": "markdown",
   "source": [
    "Exercício 3: Implementar o KNNRegressor com RMSE"
   ],
   "metadata": {
    "collapsed": false,
    "pycharm": {
     "name": "#%% md\n"
    }
   }
  },
  {
   "cell_type": "code",
   "execution_count": 1,
   "outputs": [],
   "source": [
    "# 3.1 Adiciona a métrica RMSE (RMQE em português) ao sub-package metrics. Deves criar um módulo chamado rmse.py"
   ],
   "metadata": {
    "collapsed": false,
    "pycharm": {
     "name": "#%%\n"
    }
   }
  },
  {
   "cell_type": "code",
   "execution_count": 6,
   "outputs": [
    {
     "data": {
      "text/plain": "                  syct          mmin          mmax         cach      chmin  \\\nmean        203.822967  2.867981e+03  1.179615e+04    25.205742   4.698565   \nmedian      110.000000  2.000000e+03  8.000000e+03     8.000000   2.000000   \nmin          17.000000  6.400000e+01  6.400000e+01     0.000000   0.000000   \nmax        1500.000000  3.200000e+04  6.400000e+04   256.000000  52.000000   \nvariance  67412.691147  1.497266e+07  1.368544e+08  1642.794991  46.239280   \n\n               chmax  \nmean       18.267943  \nmedian      8.000000  \nmin         0.000000  \nmax       176.000000  \nvariance  672.626771  ",
      "text/html": "<div>\n<style scoped>\n    .dataframe tbody tr th:only-of-type {\n        vertical-align: middle;\n    }\n\n    .dataframe tbody tr th {\n        vertical-align: top;\n    }\n\n    .dataframe thead th {\n        text-align: right;\n    }\n</style>\n<table border=\"1\" class=\"dataframe\">\n  <thead>\n    <tr style=\"text-align: right;\">\n      <th></th>\n      <th>syct</th>\n      <th>mmin</th>\n      <th>mmax</th>\n      <th>cach</th>\n      <th>chmin</th>\n      <th>chmax</th>\n    </tr>\n  </thead>\n  <tbody>\n    <tr>\n      <th>mean</th>\n      <td>203.822967</td>\n      <td>2.867981e+03</td>\n      <td>1.179615e+04</td>\n      <td>25.205742</td>\n      <td>4.698565</td>\n      <td>18.267943</td>\n    </tr>\n    <tr>\n      <th>median</th>\n      <td>110.000000</td>\n      <td>2.000000e+03</td>\n      <td>8.000000e+03</td>\n      <td>8.000000</td>\n      <td>2.000000</td>\n      <td>8.000000</td>\n    </tr>\n    <tr>\n      <th>min</th>\n      <td>17.000000</td>\n      <td>6.400000e+01</td>\n      <td>6.400000e+01</td>\n      <td>0.000000</td>\n      <td>0.000000</td>\n      <td>0.000000</td>\n    </tr>\n    <tr>\n      <th>max</th>\n      <td>1500.000000</td>\n      <td>3.200000e+04</td>\n      <td>6.400000e+04</td>\n      <td>256.000000</td>\n      <td>52.000000</td>\n      <td>176.000000</td>\n    </tr>\n    <tr>\n      <th>variance</th>\n      <td>67412.691147</td>\n      <td>1.497266e+07</td>\n      <td>1.368544e+08</td>\n      <td>1642.794991</td>\n      <td>46.239280</td>\n      <td>672.626771</td>\n    </tr>\n  </tbody>\n</table>\n</div>"
     },
     "execution_count": 6,
     "metadata": {},
     "output_type": "execute_result"
    }
   ],
   "source": [
    "# testing the knn_regressor.py using the dataset cpu.csv\n",
    "from src.si.neighbors.knn_regressor import KNNRegressor\n",
    "from si.data.dataset import Dataset\n",
    "from si.model_selection.split import train_test_split\n",
    "from si.statistics.euclidean_distance import euclidean_distance\n",
    "import pandas as pd\n",
    "import numpy as np\n",
    "from si.io.CSV import read_csv\n",
    "\n",
    "# read the dataset\n",
    "dataset = read_csv('/Users/josediogomoura/machine_learning/datasets/si-datasets/cpu.csv', sep=',', features=True, label=True)\n",
    "dataset.summary()"
   ],
   "metadata": {
    "collapsed": false,
    "pycharm": {
     "name": "#%%\n"
    }
   }
  },
  {
   "cell_type": "code",
   "execution_count": 7,
   "outputs": [],
   "source": [
    "train, test = train_test_split(dataset, test_size=0.2, random_state=42)"
   ],
   "metadata": {
    "collapsed": false,
    "pycharm": {
     "name": "#%%\n"
    }
   }
  },
  {
   "cell_type": "code",
   "execution_count": 8,
   "outputs": [],
   "source": [
    "# testing the knn_regressor.py\n",
    "\n",
    "k = 2\n",
    "distance = euclidean_distance\n",
    "km = KNNRegressor(k, distance)\n",
    "km.fit(train)"
   ],
   "metadata": {
    "collapsed": false,
    "pycharm": {
     "name": "#%%\n"
    }
   }
  },
  {
   "cell_type": "code",
   "execution_count": 11,
   "outputs": [
    {
     "data": {
      "text/plain": "57.201025489698786"
     },
     "execution_count": 11,
     "metadata": {},
     "output_type": "execute_result"
    }
   ],
   "source": [
    "km.score(test)"
   ],
   "metadata": {
    "collapsed": false,
    "pycharm": {
     "name": "#%%\n"
    }
   }
  },
  {
   "cell_type": "code",
   "execution_count": 12,
   "outputs": [],
   "source": [
    "# Testing KNNClassifier\n",
    "from src.si.neighbors.knn_classifier import KNNClassifier\n",
    "\n",
    "data_iris = read_csv('/Users/josediogomoura/machine_learning/datasets/si-datasets/iris.csv', sep=',', features=True, label=True)"
   ],
   "metadata": {
    "collapsed": false,
    "pycharm": {
     "name": "#%%\n"
    }
   }
  },
  {
   "cell_type": "code",
   "execution_count": 13,
   "outputs": [],
   "source": [
    "train, test = train_test_split(data_iris, test_size=0.2, random_state=42)"
   ],
   "metadata": {
    "collapsed": false,
    "pycharm": {
     "name": "#%%\n"
    }
   }
  },
  {
   "cell_type": "code",
   "execution_count": 14,
   "outputs": [
    {
     "data": {
      "text/plain": "<src.si.neighbors.knn_classifier.KNNClassifier at 0x7fe890ae1ee0>"
     },
     "execution_count": 14,
     "metadata": {},
     "output_type": "execute_result"
    }
   ],
   "source": [
    "k = 2\n",
    "distance = euclidean_distance\n",
    "km = KNNClassifier(k, distance)\n",
    "km.fit(train)"
   ],
   "metadata": {
    "collapsed": false,
    "pycharm": {
     "name": "#%%\n"
    }
   }
  },
  {
   "cell_type": "code",
   "execution_count": 15,
   "outputs": [
    {
     "data": {
      "text/plain": "1.0"
     },
     "execution_count": 15,
     "metadata": {},
     "output_type": "execute_result"
    }
   ],
   "source": [
    "km.score(test)"
   ],
   "metadata": {
    "collapsed": false,
    "pycharm": {
     "name": "#%%\n"
    }
   }
  }
 ],
 "metadata": {
  "kernelspec": {
   "display_name": "Python 3",
   "language": "python",
   "name": "python3"
  },
  "language_info": {
   "codemirror_mode": {
    "name": "ipython",
    "version": 2
   },
   "file_extension": ".py",
   "mimetype": "text/x-python",
   "name": "python",
   "nbconvert_exporter": "python",
   "pygments_lexer": "ipython2",
   "version": "2.7.6"
  }
 },
 "nbformat": 4,
 "nbformat_minor": 0
}