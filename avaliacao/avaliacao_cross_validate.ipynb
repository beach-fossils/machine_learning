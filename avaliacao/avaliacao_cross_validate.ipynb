{
 "cells": [
  {
   "cell_type": "markdown",
   "source": [
    "Testar a função cross_validate"
   ],
   "metadata": {
    "collapsed": false,
    "pycharm": {
     "name": "#%% md\n"
    }
   }
  },
  {
   "cell_type": "code",
   "execution_count": 1,
   "outputs": [],
   "source": [
    "from si.model_selection.cross_validate import cross_validate\n",
    "from si.io.CSV import read_csv\n",
    "from sklearn.preprocessing import StandardScaler\n",
    "import numpy as np\n",
    "from si.linear_model.logistic_regression import LogisticRegression\n",
    "from si.model_selection.grid_search import grid_search_cv"
   ],
   "metadata": {
    "collapsed": false,
    "pycharm": {
     "name": "#%%\n"
    }
   }
  },
  {
   "cell_type": "code",
   "execution_count": 2,
   "outputs": [],
   "source": [
    "# testar o cross_validate\n",
    "\n",
    "breast_data = read_csv('/Users/josediogomoura/machine_learning/datasets/si-datasets_update/breast-bin.csv', sep=',', label=True, features=True)\n",
    "\n",
    "breast_data.X = StandardScaler().fit_transform(breast_data.X)"
   ],
   "metadata": {
    "collapsed": false,
    "pycharm": {
     "name": "#%%\n"
    }
   }
  },
  {
   "cell_type": "code",
   "execution_count": 3,
   "outputs": [],
   "source": [
    "logistic_regression = LogisticRegression()"
   ],
   "metadata": {
    "collapsed": false,
    "pycharm": {
     "name": "#%%\n"
    }
   }
  },
  {
   "cell_type": "code",
   "execution_count": 4,
   "outputs": [],
   "source": [
    "# 5 folds for cross validation\n",
    "cv = cross_validate(logistic_regression, breast_data, cv=5)\n"
   ],
   "metadata": {
    "collapsed": false,
    "pycharm": {
     "name": "#%%\n"
    }
   }
  },
  {
   "cell_type": "code",
   "execution_count": 5,
   "outputs": [
    {
     "name": "stdout",
     "output_type": "stream",
     "text": [
      "{'seed': [0, 1, 2, 3, 4], 'train': [0.967280163599182, 0.9693251533742331, 0.9591002044989775, 0.967280163599182, 0.9570552147239264], 'test': [0.9665071770334929, 0.9617224880382775, 0.9856459330143541, 0.9665071770334929, 0.9904306220095693], 'parameters': []}\n"
     ]
    }
   ],
   "source": [
    "print(cv)"
   ],
   "metadata": {
    "collapsed": false,
    "pycharm": {
     "name": "#%%\n"
    }
   }
  },
  {
   "cell_type": "code",
   "execution_count": 6,
   "outputs": [
    {
     "data": {
      "text/plain": "{'parameters': [{'l2_penalty': 1},\n  {'alpha': 0.0001},\n  {'max_iter': 1000},\n  {'l2_penalty': 1},\n  {'alpha': 0.0001},\n  {'max_iter': 2000},\n  {'l2_penalty': 1},\n  {'alpha': 0.001},\n  {'max_iter': 1000},\n  {'l2_penalty': 1},\n  {'alpha': 0.001},\n  {'max_iter': 2000},\n  {'l2_penalty': 10},\n  {'alpha': 0.0001},\n  {'max_iter': 1000},\n  {'l2_penalty': 10},\n  {'alpha': 0.0001},\n  {'max_iter': 2000},\n  {'l2_penalty': 10},\n  {'alpha': 0.001},\n  {'max_iter': 1000},\n  {'l2_penalty': 10},\n  {'alpha': 0.001},\n  {'max_iter': 2000}],\n 'train': [0.9713701431492843,\n  0.9591002044989775,\n  0.9754601226993865,\n  0.9631901840490797,\n  0.9693251533742331,\n  0.9652351738241309,\n  0.9734151329243353,\n  0.9631901840490797,\n  0.967280163599182,\n  0.9734151329243353,\n  0.9631901840490797,\n  0.9631901840490797,\n  0.9713701431492843,\n  0.9693251533742331,\n  0.967280163599182,\n  0.9591002044989775,\n  0.9652351738241309,\n  0.967280163599182,\n  0.967280163599182,\n  0.967280163599182,\n  0.9693251533742331,\n  0.9652351738241309,\n  0.9734151329243353,\n  0.9631901840490797],\n 'test': [0.9569377990430622,\n  0.9856459330143541,\n  0.9473684210526315,\n  0.9760765550239234,\n  0.9617224880382775,\n  0.9712918660287081,\n  0.9521531100478469,\n  0.9760765550239234,\n  0.9665071770334929,\n  0.9521531100478469,\n  0.9808612440191388,\n  0.9760765550239234,\n  0.9569377990430622,\n  0.9617224880382775,\n  0.9665071770334929,\n  0.9856459330143541,\n  0.9712918660287081,\n  0.9665071770334929,\n  0.9665071770334929,\n  0.9665071770334929,\n  0.9617224880382775,\n  0.9712918660287081,\n  0.9521531100478469,\n  0.9760765550239234],\n 'seed': [0,\n  1,\n  2,\n  0,\n  1,\n  2,\n  0,\n  1,\n  2,\n  0,\n  1,\n  2,\n  0,\n  1,\n  2,\n  0,\n  1,\n  2,\n  0,\n  1,\n  2,\n  0,\n  1,\n  2]}"
     },
     "execution_count": 6,
     "metadata": {},
     "output_type": "execute_result"
    }
   ],
   "source": [
    "# testar o grid_search_cv agora:\n",
    "# params logi = l2_penalty: float = 1, alpha: float = 0.001, max_iter: int = 1000\n",
    "logiv2 = LogisticRegression()\n",
    "params = {'l2_penalty': [1, 10],\n",
    "          'alpha': [0.0001, 0.001],\n",
    "          'max_iter': [1000, 2000]}\n",
    "\n",
    "grid_search = grid_search_cv(logiv2, breast_data, params, cv=3)\n",
    "grid_search"
   ],
   "metadata": {
    "collapsed": false,
    "pycharm": {
     "name": "#%%\n"
    }
   }
  },
  {
   "cell_type": "code",
   "execution_count": 7,
   "outputs": [],
   "source": [
    "# Randomize Search test"
   ],
   "metadata": {
    "collapsed": false,
    "pycharm": {
     "name": "#%%\n"
    }
   }
  },
  {
   "cell_type": "code",
   "execution_count": 8,
   "outputs": [
    {
     "data": {
      "text/plain": "{'parameters': [{'l2_penalty': 10},\n  {'alpha': 0.0001},\n  {'max_iter': 1000},\n  {'l2_penalty': 1},\n  {'alpha': 0.001},\n  {'max_iter': 1000},\n  {'l2_penalty': 10},\n  {'alpha': 0.0001},\n  {'max_iter': 2000},\n  {'l2_penalty': 10},\n  {'alpha': 0.001},\n  {'max_iter': 1000},\n  {'l2_penalty': 10},\n  {'alpha': 0.001},\n  {'max_iter': 1000},\n  {'l2_penalty': 1},\n  {'alpha': 0.0001},\n  {'max_iter': 2000},\n  {'l2_penalty': 10},\n  {'alpha': 0.0001},\n  {'max_iter': 1000},\n  {'l2_penalty': 10},\n  {'alpha': 0.001},\n  {'max_iter': 2000},\n  {'l2_penalty': 1},\n  {'alpha': 0.0001},\n  {'max_iter': 2000},\n  {'l2_penalty': 10},\n  {'alpha': 0.001},\n  {'max_iter': 1000}],\n 'seed': [555, 938, 184, 534, 653, 309, 11, 876, 212, 209],\n 'train': [[0.9652351738241309, 0.9693251533742331, 0.9713701431492843],\n  [0.9652351738241309, 0.9713701431492843, 0.967280163599182],\n  [0.967280163599182, 0.9611451942740287, 0.9631901840490797],\n  [0.9713701431492843, 0.9693251533742331, 0.9631901840490797],\n  [0.9652351738241309, 0.9611451942740287, 0.9611451942740287],\n  [0.9591002044989775, 0.9631901840490797, 0.9734151329243353],\n  [0.967280163599182, 0.9734151329243353, 0.9631901840490797],\n  [0.9693251533742331, 0.9631901840490797, 0.9713701431492843],\n  [0.9652351738241309, 0.9754601226993865, 0.9570552147239264],\n  [0.9591002044989775, 0.9652351738241309, 0.9631901840490797]],\n 'test': [[0.9712918660287081, 0.9617224880382775, 0.9569377990430622],\n  [0.9712918660287081, 0.9569377990430622, 0.9665071770334929],\n  [0.9665071770334929, 0.9808612440191388, 0.9760765550239234],\n  [0.9569377990430622, 0.9617224880382775, 0.9760765550239234],\n  [0.9712918660287081, 0.9808612440191388, 0.9808612440191388],\n  [0.9856459330143541, 0.9760765550239234, 0.9521531100478469],\n  [0.9665071770334929, 0.9521531100478469, 0.9760765550239234],\n  [0.9617224880382775, 0.9760765550239234, 0.9569377990430622],\n  [0.9712918660287081, 0.9473684210526315, 0.9904306220095693],\n  [0.9856459330143541, 0.9712918660287081, 0.9760765550239234]]}"
     },
     "execution_count": 8,
     "metadata": {},
     "output_type": "execute_result"
    }
   ],
   "source": [
    "from si.model_selection.randomize_search_cv import randomize_search\n",
    "\n",
    "logiv3 = LogisticRegression()\n",
    "params = {'l2_penalty': [1, 10],\n",
    "          'alpha': [0.0001, 0.001],\n",
    "          'max_iter': [1000, 2000]}\n",
    "randomize_search(logiv3, breast_data, params, cv=3, n_iter=10)"
   ],
   "metadata": {
    "collapsed": false,
    "pycharm": {
     "name": "#%%\n"
    }
   }
  }
 ],
 "metadata": {
  "kernelspec": {
   "display_name": "Python 3",
   "language": "python",
   "name": "python3"
  },
  "language_info": {
   "codemirror_mode": {
    "name": "ipython",
    "version": 2
   },
   "file_extension": ".py",
   "mimetype": "text/x-python",
   "name": "python",
   "nbconvert_exporter": "python",
   "pygments_lexer": "ipython2",
   "version": "2.7.6"
  }
 },
 "nbformat": 4,
 "nbformat_minor": 0
}